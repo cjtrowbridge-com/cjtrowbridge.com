{
 "cells": [
  {
   "cell_type": "code",
   "execution_count": null,
   "metadata": {},
   "outputs": [],
   "source": [
    "import csv, math\n",
    "rows = []\n",
    "with open('data.csv') as f:\n",
    "    reader = csv.DictReader(f)\n",
    "    for row in reader:\n",
    "        mmlu = float(row['MMLU'].strip('%'))\n",
    "        bparams = float(row['B Params'])\n",
    "        name = row['Model']\n",
    "        rows.append((mmlu, bparams, name))\n",
    "\n",
    "x_min, x_max = 0, 100\n",
    "b_min = min(b for _, b, _ in rows if b > 0)\n",
    "b_max = max(b for _, b, _ in rows)\n",
    "log_y_min = math.log10(b_min)\n",
    "log_y_max = math.log10(b_max)\n",
    "width, height = 800, 600\n",
    "margin = 60\n",
    "svg = [f'<svg xmlns=\"http://www.w3.org/2000/svg\" width=\"{width}\" height=\"{height}\">']\n",
    "svg.append(f'<line x1=\"{margin}\" y1=\"{height-margin}\" x2=\"{width-margin}\" y2=\"{height-margin}\" stroke=\"black\"/>')\n",
    "svg.append(f'<line x1=\"{margin}\" y1=\"{height-margin}\" x2=\"{margin}\" y2=\"{margin}\" stroke=\"black\"/>')\n",
    "for i in range(0, 101, 20):\n",
    "    x = margin + (i - x_min)/(x_max - x_min)*(width-2*margin)\n",
    "    svg.append(f'<line x1=\"{x}\" y1=\"{height-margin}\" x2=\"{x}\" y2=\"{height-margin-5}\" stroke=\"black\"/>')\n",
    "    svg.append(f'<text x=\"{x}\" y=\"{height-margin+15}\" font-size=\"10\" text-anchor=\"middle\">{i}%</text>')\n",
    "val = 1\n",
    "while val <= b_max:\n",
    "    if val >= b_min:\n",
    "        log_val = math.log10(val)\n",
    "        y = height - margin - (log_val - log_y_min)/(log_y_max - log_y_min)*(height-2*margin)\n",
    "        svg.append(f'<line x1=\"{margin}\" y1=\"{y}\" x2=\"{margin+5}\" y2=\"{y}\" stroke=\"black\"/>')\n",
    "        svg.append(f'<text x=\"{margin-5}\" y=\"{y+4}\" font-size=\"10\" text-anchor=\"end\">{val}</text>')\n",
    "    val *= 10\n",
    "for mmlu, b, name in rows:\n",
    "    x = margin + (mmlu - x_min)/(x_max - x_min)*(width-2*margin)\n",
    "    log_y = math.log10(b)\n",
    "    y = height - margin - (log_y - log_y_min)/(log_y_max - log_y_min)*(height-2*margin)\n",
    "    svg.append(f'<circle cx=\"{x}\" cy=\"{y}\" r=\"4\" fill=\"blue\"/>')\n",
    "    svg.append(f'<text x=\"{x+5}\" y=\"{y-5}\" font-size=\"10\">{name}</text>')\n",
    "svg.append('</svg>')\n",
    "with open('graph.svg', 'w') as f:\n",
    "    f.write('\\n'.join(svg))\n",
    "print('graph.svg generated')\n"
   ]
  }
 ],
 "metadata": {
  "kernelspec": {
   "display_name": "Python 3",
   "language": "python",
   "name": "python3"
  },
  "language_info": {
   "name": "python"
  }
 },
 "nbformat": 4,
 "nbformat_minor": 2
}
